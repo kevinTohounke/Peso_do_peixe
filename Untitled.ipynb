{
 "cells": [
  {
   "cell_type": "markdown",
   "id": "8fb143b0",
   "metadata": {},
   "source": [
    "## Definindo problema de Negócio\n",
    "\n",
    "Nosso objetivo neste conjunto de dados é o de prever o peso de um peixe baseando-de nas variáveis de entradas disponíveis. Essas variáveis incluem fatores como nome da especie do peixe, peso do peixe, altura, tamanho, etc. \n",
    "Esta análise pode vir a ser utilizada em supermercados/armazéns que almejam estabelecer um preço baixo e justo dos \n",
    "seus peixes tendo em conta a situação crítica actual do país.  \n"
   ]
  },
  {
   "cell_type": "markdown",
   "id": "ab0aae2a",
   "metadata": {},
   "source": [
    "## Definindo o Dataset \n",
    "Usaremos um conjunto de dados com registos de 7 espécies diferentes de peixeis comuns nas vendas do mercado de peixes. Com este conjunto de dados iremos de prever o peso do peixe com um modelo de regressão linear multípla. "
   ]
  },
  {
   "cell_type": "code",
   "execution_count": 123,
   "id": "7038ab61",
   "metadata": {},
   "outputs": [],
   "source": [
    "#imports\n",
    "import pandas as pd\n",
    "import numpy as np\n",
    "import matplotlib.pyplot as plt\n",
    "import matplotlib as mpl\n",
    "import statsmodels.api as sm\n",
    "from sklearn.preprocessing import StandardScaler\n",
    "from sklearn import linear_model\n",
    "from sklearn.pipeline import make_pipeline\n",
    "from sklearn.metrics import r2_score"
   ]
  },
  {
   "cell_type": "code",
   "execution_count": 2,
   "id": "4dfd8958",
   "metadata": {},
   "outputs": [],
   "source": [
    "df = pd.read_csv(\"Fish.csv\")"
   ]
  },
  {
   "cell_type": "code",
   "execution_count": 3,
   "id": "d1c533b3",
   "metadata": {},
   "outputs": [
    {
     "data": {
      "text/html": [
       "<div>\n",
       "<style scoped>\n",
       "    .dataframe tbody tr th:only-of-type {\n",
       "        vertical-align: middle;\n",
       "    }\n",
       "\n",
       "    .dataframe tbody tr th {\n",
       "        vertical-align: top;\n",
       "    }\n",
       "\n",
       "    .dataframe thead th {\n",
       "        text-align: right;\n",
       "    }\n",
       "</style>\n",
       "<table border=\"1\" class=\"dataframe\">\n",
       "  <thead>\n",
       "    <tr style=\"text-align: right;\">\n",
       "      <th></th>\n",
       "      <th>Species</th>\n",
       "      <th>Weight</th>\n",
       "      <th>Length1</th>\n",
       "      <th>Length2</th>\n",
       "      <th>Length3</th>\n",
       "      <th>Height</th>\n",
       "      <th>Width</th>\n",
       "    </tr>\n",
       "  </thead>\n",
       "  <tbody>\n",
       "    <tr>\n",
       "      <th>0</th>\n",
       "      <td>Bream</td>\n",
       "      <td>242.0</td>\n",
       "      <td>23.2</td>\n",
       "      <td>25.4</td>\n",
       "      <td>30.0</td>\n",
       "      <td>11.5200</td>\n",
       "      <td>4.0200</td>\n",
       "    </tr>\n",
       "    <tr>\n",
       "      <th>1</th>\n",
       "      <td>Bream</td>\n",
       "      <td>290.0</td>\n",
       "      <td>24.0</td>\n",
       "      <td>26.3</td>\n",
       "      <td>31.2</td>\n",
       "      <td>12.4800</td>\n",
       "      <td>4.3056</td>\n",
       "    </tr>\n",
       "    <tr>\n",
       "      <th>2</th>\n",
       "      <td>Bream</td>\n",
       "      <td>340.0</td>\n",
       "      <td>23.9</td>\n",
       "      <td>26.5</td>\n",
       "      <td>31.1</td>\n",
       "      <td>12.3778</td>\n",
       "      <td>4.6961</td>\n",
       "    </tr>\n",
       "    <tr>\n",
       "      <th>3</th>\n",
       "      <td>Bream</td>\n",
       "      <td>363.0</td>\n",
       "      <td>26.3</td>\n",
       "      <td>29.0</td>\n",
       "      <td>33.5</td>\n",
       "      <td>12.7300</td>\n",
       "      <td>4.4555</td>\n",
       "    </tr>\n",
       "    <tr>\n",
       "      <th>4</th>\n",
       "      <td>Bream</td>\n",
       "      <td>430.0</td>\n",
       "      <td>26.5</td>\n",
       "      <td>29.0</td>\n",
       "      <td>34.0</td>\n",
       "      <td>12.4440</td>\n",
       "      <td>5.1340</td>\n",
       "    </tr>\n",
       "  </tbody>\n",
       "</table>\n",
       "</div>"
      ],
      "text/plain": [
       "  Species  Weight  Length1  Length2  Length3   Height   Width\n",
       "0   Bream   242.0     23.2     25.4     30.0  11.5200  4.0200\n",
       "1   Bream   290.0     24.0     26.3     31.2  12.4800  4.3056\n",
       "2   Bream   340.0     23.9     26.5     31.1  12.3778  4.6961\n",
       "3   Bream   363.0     26.3     29.0     33.5  12.7300  4.4555\n",
       "4   Bream   430.0     26.5     29.0     34.0  12.4440  5.1340"
      ]
     },
     "execution_count": 3,
     "metadata": {},
     "output_type": "execute_result"
    }
   ],
   "source": [
    "df.head()"
   ]
  },
  {
   "cell_type": "markdown",
   "id": "e584bf71",
   "metadata": {},
   "source": [
    "1. Species: Nome do tipo de espécie do peixe\n",
    "2. Length1: Comprimento vertical em cm \n",
    "3. Length2: Comprimento diagonal em cm\n",
    "4. Length3: Medida transversal em relação ao comprimento, em cm \n",
    "5. Height:  Altura em cm\n",
    "6. Width:  largura em cm\n",
    "7. Weight(TARGET): Peso do peixe em gramas (g)"
   ]
  },
  {
   "cell_type": "code",
   "execution_count": 20,
   "id": "3f20f798",
   "metadata": {},
   "outputs": [],
   "source": [
    "#Trocando a posição da coluna Target para o fim \n",
    "# Armazenando a coluna que desejamos mover em uma variável\n",
    "coluna_armazenada = df['Weight']\n",
    "\n",
    "# Remoção da coluna original do DataFrame\n",
    "df = df.drop('Weight', axis=1)\n",
    "\n",
    "# Inserindo a coluna armazenada na última posição do DataFrame\n",
    "df['Weight'] = coluna_armazenada"
   ]
  },
  {
   "cell_type": "code",
   "execution_count": 21,
   "id": "61653abe",
   "metadata": {},
   "outputs": [
    {
     "data": {
      "text/html": [
       "<div>\n",
       "<style scoped>\n",
       "    .dataframe tbody tr th:only-of-type {\n",
       "        vertical-align: middle;\n",
       "    }\n",
       "\n",
       "    .dataframe tbody tr th {\n",
       "        vertical-align: top;\n",
       "    }\n",
       "\n",
       "    .dataframe thead th {\n",
       "        text-align: right;\n",
       "    }\n",
       "</style>\n",
       "<table border=\"1\" class=\"dataframe\">\n",
       "  <thead>\n",
       "    <tr style=\"text-align: right;\">\n",
       "      <th></th>\n",
       "      <th>Species</th>\n",
       "      <th>Length1</th>\n",
       "      <th>Length2</th>\n",
       "      <th>Length3</th>\n",
       "      <th>Height</th>\n",
       "      <th>Width</th>\n",
       "      <th>Weight</th>\n",
       "    </tr>\n",
       "  </thead>\n",
       "  <tbody>\n",
       "    <tr>\n",
       "      <th>0</th>\n",
       "      <td>Bream</td>\n",
       "      <td>23.2</td>\n",
       "      <td>25.4</td>\n",
       "      <td>30.0</td>\n",
       "      <td>11.5200</td>\n",
       "      <td>4.0200</td>\n",
       "      <td>242.0</td>\n",
       "    </tr>\n",
       "    <tr>\n",
       "      <th>1</th>\n",
       "      <td>Bream</td>\n",
       "      <td>24.0</td>\n",
       "      <td>26.3</td>\n",
       "      <td>31.2</td>\n",
       "      <td>12.4800</td>\n",
       "      <td>4.3056</td>\n",
       "      <td>290.0</td>\n",
       "    </tr>\n",
       "    <tr>\n",
       "      <th>2</th>\n",
       "      <td>Bream</td>\n",
       "      <td>23.9</td>\n",
       "      <td>26.5</td>\n",
       "      <td>31.1</td>\n",
       "      <td>12.3778</td>\n",
       "      <td>4.6961</td>\n",
       "      <td>340.0</td>\n",
       "    </tr>\n",
       "    <tr>\n",
       "      <th>3</th>\n",
       "      <td>Bream</td>\n",
       "      <td>26.3</td>\n",
       "      <td>29.0</td>\n",
       "      <td>33.5</td>\n",
       "      <td>12.7300</td>\n",
       "      <td>4.4555</td>\n",
       "      <td>363.0</td>\n",
       "    </tr>\n",
       "    <tr>\n",
       "      <th>4</th>\n",
       "      <td>Bream</td>\n",
       "      <td>26.5</td>\n",
       "      <td>29.0</td>\n",
       "      <td>34.0</td>\n",
       "      <td>12.4440</td>\n",
       "      <td>5.1340</td>\n",
       "      <td>430.0</td>\n",
       "    </tr>\n",
       "  </tbody>\n",
       "</table>\n",
       "</div>"
      ],
      "text/plain": [
       "  Species  Length1  Length2  Length3   Height   Width  Weight\n",
       "0   Bream     23.2     25.4     30.0  11.5200  4.0200   242.0\n",
       "1   Bream     24.0     26.3     31.2  12.4800  4.3056   290.0\n",
       "2   Bream     23.9     26.5     31.1  12.3778  4.6961   340.0\n",
       "3   Bream     26.3     29.0     33.5  12.7300  4.4555   363.0\n",
       "4   Bream     26.5     29.0     34.0  12.4440  5.1340   430.0"
      ]
     },
     "execution_count": 21,
     "metadata": {},
     "output_type": "execute_result"
    }
   ],
   "source": [
    "df.head()"
   ]
  },
  {
   "cell_type": "code",
   "execution_count": 33,
   "id": "6c588533",
   "metadata": {},
   "outputs": [],
   "source": [
    "#Coletando X e Y \n",
    "#X são as variáveis preditoras\n",
    "#Y é a variável a ser prevista\n",
    "X = df.iloc[:,1:-1]\n",
    "Y = df['Weight'].values"
   ]
  },
  {
   "cell_type": "code",
   "execution_count": 35,
   "id": "39e0afd2",
   "metadata": {},
   "outputs": [
    {
     "data": {
      "text/html": [
       "<div>\n",
       "<style scoped>\n",
       "    .dataframe tbody tr th:only-of-type {\n",
       "        vertical-align: middle;\n",
       "    }\n",
       "\n",
       "    .dataframe tbody tr th {\n",
       "        vertical-align: top;\n",
       "    }\n",
       "\n",
       "    .dataframe thead th {\n",
       "        text-align: right;\n",
       "    }\n",
       "</style>\n",
       "<table border=\"1\" class=\"dataframe\">\n",
       "  <thead>\n",
       "    <tr style=\"text-align: right;\">\n",
       "      <th></th>\n",
       "      <th>Length1</th>\n",
       "      <th>Length2</th>\n",
       "      <th>Length3</th>\n",
       "      <th>Height</th>\n",
       "      <th>Width</th>\n",
       "    </tr>\n",
       "  </thead>\n",
       "  <tbody>\n",
       "    <tr>\n",
       "      <th>0</th>\n",
       "      <td>23.2</td>\n",
       "      <td>25.4</td>\n",
       "      <td>30.0</td>\n",
       "      <td>11.5200</td>\n",
       "      <td>4.0200</td>\n",
       "    </tr>\n",
       "    <tr>\n",
       "      <th>1</th>\n",
       "      <td>24.0</td>\n",
       "      <td>26.3</td>\n",
       "      <td>31.2</td>\n",
       "      <td>12.4800</td>\n",
       "      <td>4.3056</td>\n",
       "    </tr>\n",
       "    <tr>\n",
       "      <th>2</th>\n",
       "      <td>23.9</td>\n",
       "      <td>26.5</td>\n",
       "      <td>31.1</td>\n",
       "      <td>12.3778</td>\n",
       "      <td>4.6961</td>\n",
       "    </tr>\n",
       "    <tr>\n",
       "      <th>3</th>\n",
       "      <td>26.3</td>\n",
       "      <td>29.0</td>\n",
       "      <td>33.5</td>\n",
       "      <td>12.7300</td>\n",
       "      <td>4.4555</td>\n",
       "    </tr>\n",
       "    <tr>\n",
       "      <th>4</th>\n",
       "      <td>26.5</td>\n",
       "      <td>29.0</td>\n",
       "      <td>34.0</td>\n",
       "      <td>12.4440</td>\n",
       "      <td>5.1340</td>\n",
       "    </tr>\n",
       "  </tbody>\n",
       "</table>\n",
       "</div>"
      ],
      "text/plain": [
       "   Length1  Length2  Length3   Height   Width\n",
       "0     23.2     25.4     30.0  11.5200  4.0200\n",
       "1     24.0     26.3     31.2  12.4800  4.3056\n",
       "2     23.9     26.5     31.1  12.3778  4.6961\n",
       "3     26.3     29.0     33.5  12.7300  4.4555\n",
       "4     26.5     29.0     34.0  12.4440  5.1340"
      ]
     },
     "execution_count": 35,
     "metadata": {},
     "output_type": "execute_result"
    }
   ],
   "source": [
    "#Variáveis explanatórias\n",
    "X.head()"
   ]
  },
  {
   "cell_type": "code",
   "execution_count": 36,
   "id": "22028759",
   "metadata": {},
   "outputs": [
    {
     "data": {
      "text/plain": [
       "array([ 242. ,  290. ,  340. ,  363. ,  430. ,  450. ,  500. ,  390. ,\n",
       "        450. ,  500. ,  475. ,  500. ,  500. ,  340. ,  600. ,  600. ,\n",
       "        700. ,  700. ,  610. ,  650. ,  575. ,  685. ,  620. ,  680. ,\n",
       "        700. ,  725. ,  720. ,  714. ,  850. , 1000. ,  920. ,  955. ,\n",
       "        925. ,  975. ,  950. ,   40. ,   69. ,   78. ,   87. ,  120. ,\n",
       "          0. ,  110. ,  120. ,  150. ,  145. ,  160. ,  140. ,  160. ,\n",
       "        169. ,  161. ,  200. ,  180. ,  290. ,  272. ,  390. ,  270. ,\n",
       "        270. ,  306. ,  540. ,  800. , 1000. ,   55. ,   60. ,   90. ,\n",
       "        120. ,  150. ,  140. ,  170. ,  145. ,  200. ,  273. ,  300. ,\n",
       "          5.9,   32. ,   40. ,   51.5,   70. ,  100. ,   78. ,   80. ,\n",
       "         85. ,   85. ,  110. ,  115. ,  125. ,  130. ,  120. ,  120. ,\n",
       "        130. ,  135. ,  110. ,  130. ,  150. ,  145. ,  150. ,  170. ,\n",
       "        225. ,  145. ,  188. ,  180. ,  197. ,  218. ,  300. ,  260. ,\n",
       "        265. ,  250. ,  250. ,  300. ,  320. ,  514. ,  556. ,  840. ,\n",
       "        685. ,  700. ,  700. ,  690. ,  900. ,  650. ,  820. ,  850. ,\n",
       "        900. , 1015. ,  820. , 1100. , 1000. , 1100. , 1000. , 1000. ,\n",
       "        200. ,  300. ,  300. ,  300. ,  430. ,  345. ,  456. ,  510. ,\n",
       "        540. ,  500. ,  567. ,  770. ,  950. , 1250. , 1600. , 1550. ,\n",
       "       1650. ,    6.7,    7.5,    7. ,    9.7,    9.8,    8.7,   10. ,\n",
       "          9.9,    9.8,   12.2,   13.4,   12.2,   19.7,   19.9])"
      ]
     },
     "execution_count": 36,
     "metadata": {},
     "output_type": "execute_result"
    }
   ],
   "source": [
    "#Variável Target \n",
    "Y"
   ]
  },
  {
   "cell_type": "markdown",
   "id": "8e6f5353",
   "metadata": {},
   "source": [
    "## Usando todas as variáveis explanatórias com StatsModels"
   ]
  },
  {
   "cell_type": "code",
   "execution_count": 38,
   "id": "8edb9f4c",
   "metadata": {},
   "outputs": [],
   "source": [
    "#Adicionado a constante pois o statsmodels requer isso\n",
    "Xc= sm.add_constant(X)\n",
    "modelo = sm.OLS(Y, Xc)\n",
    "modelo_v1 = modelo.fit()"
   ]
  },
  {
   "cell_type": "code",
   "execution_count": 40,
   "id": "0af6828d",
   "metadata": {},
   "outputs": [
    {
     "data": {
      "text/html": [
       "<table class=\"simpletable\">\n",
       "<caption>OLS Regression Results</caption>\n",
       "<tr>\n",
       "  <th>Dep. Variable:</th>            <td>y</td>        <th>  R-squared:         </th> <td>   0.885</td>\n",
       "</tr>\n",
       "<tr>\n",
       "  <th>Model:</th>                   <td>OLS</td>       <th>  Adj. R-squared:    </th> <td>   0.882</td>\n",
       "</tr>\n",
       "<tr>\n",
       "  <th>Method:</th>             <td>Least Squares</td>  <th>  F-statistic:       </th> <td>   236.2</td>\n",
       "</tr>\n",
       "<tr>\n",
       "  <th>Date:</th>             <td>Tue, 20 Jun 2023</td> <th>  Prob (F-statistic):</th> <td>4.95e-70</td>\n",
       "</tr>\n",
       "<tr>\n",
       "  <th>Time:</th>                 <td>09:23:41</td>     <th>  Log-Likelihood:    </th> <td> -987.96</td>\n",
       "</tr>\n",
       "<tr>\n",
       "  <th>No. Observations:</th>      <td>   159</td>      <th>  AIC:               </th> <td>   1988.</td>\n",
       "</tr>\n",
       "<tr>\n",
       "  <th>Df Residuals:</th>          <td>   153</td>      <th>  BIC:               </th> <td>   2006.</td>\n",
       "</tr>\n",
       "<tr>\n",
       "  <th>Df Model:</th>              <td>     5</td>      <th>                     </th>     <td> </td>   \n",
       "</tr>\n",
       "<tr>\n",
       "  <th>Covariance Type:</th>      <td>nonrobust</td>    <th>                     </th>     <td> </td>   \n",
       "</tr>\n",
       "</table>\n",
       "<table class=\"simpletable\">\n",
       "<tr>\n",
       "     <td></td>        <th>coef</th>     <th>std err</th>      <th>t</th>      <th>P>|t|</th>  <th>[0.025</th>    <th>0.975]</th>  \n",
       "</tr>\n",
       "<tr>\n",
       "  <th>const</th>   <td> -499.5870</td> <td>   29.572</td> <td>  -16.894</td> <td> 0.000</td> <td> -558.010</td> <td> -441.164</td>\n",
       "</tr>\n",
       "<tr>\n",
       "  <th>Length1</th> <td>   62.3552</td> <td>   40.209</td> <td>    1.551</td> <td> 0.123</td> <td>  -17.081</td> <td>  141.791</td>\n",
       "</tr>\n",
       "<tr>\n",
       "  <th>Length2</th> <td>   -6.5268</td> <td>   41.759</td> <td>   -0.156</td> <td> 0.876</td> <td>  -89.025</td> <td>   75.971</td>\n",
       "</tr>\n",
       "<tr>\n",
       "  <th>Length3</th> <td>  -29.0262</td> <td>   17.353</td> <td>   -1.673</td> <td> 0.096</td> <td>  -63.309</td> <td>    5.256</td>\n",
       "</tr>\n",
       "<tr>\n",
       "  <th>Height</th>  <td>   28.2974</td> <td>    8.729</td> <td>    3.242</td> <td> 0.001</td> <td>   11.052</td> <td>   45.543</td>\n",
       "</tr>\n",
       "<tr>\n",
       "  <th>Width</th>   <td>   22.4733</td> <td>   20.372</td> <td>    1.103</td> <td> 0.272</td> <td>  -17.773</td> <td>   62.720</td>\n",
       "</tr>\n",
       "</table>\n",
       "<table class=\"simpletable\">\n",
       "<tr>\n",
       "  <th>Omnibus:</th>       <td>20.989</td> <th>  Durbin-Watson:     </th> <td>   0.424</td>\n",
       "</tr>\n",
       "<tr>\n",
       "  <th>Prob(Omnibus):</th> <td> 0.000</td> <th>  Jarque-Bera (JB):  </th> <td>  27.307</td>\n",
       "</tr>\n",
       "<tr>\n",
       "  <th>Skew:</th>          <td> 0.792</td> <th>  Prob(JB):          </th> <td>1.18e-06</td>\n",
       "</tr>\n",
       "<tr>\n",
       "  <th>Kurtosis:</th>      <td> 4.269</td> <th>  Cond. No.          </th> <td>    315.</td>\n",
       "</tr>\n",
       "</table><br/><br/>Notes:<br/>[1] Standard Errors assume that the covariance matrix of the errors is correctly specified."
      ],
      "text/plain": [
       "<class 'statsmodels.iolib.summary.Summary'>\n",
       "\"\"\"\n",
       "                            OLS Regression Results                            \n",
       "==============================================================================\n",
       "Dep. Variable:                      y   R-squared:                       0.885\n",
       "Model:                            OLS   Adj. R-squared:                  0.882\n",
       "Method:                 Least Squares   F-statistic:                     236.2\n",
       "Date:                Tue, 20 Jun 2023   Prob (F-statistic):           4.95e-70\n",
       "Time:                        09:23:41   Log-Likelihood:                -987.96\n",
       "No. Observations:                 159   AIC:                             1988.\n",
       "Df Residuals:                     153   BIC:                             2006.\n",
       "Df Model:                           5                                         \n",
       "Covariance Type:            nonrobust                                         \n",
       "==============================================================================\n",
       "                 coef    std err          t      P>|t|      [0.025      0.975]\n",
       "------------------------------------------------------------------------------\n",
       "const       -499.5870     29.572    -16.894      0.000    -558.010    -441.164\n",
       "Length1       62.3552     40.209      1.551      0.123     -17.081     141.791\n",
       "Length2       -6.5268     41.759     -0.156      0.876     -89.025      75.971\n",
       "Length3      -29.0262     17.353     -1.673      0.096     -63.309       5.256\n",
       "Height        28.2974      8.729      3.242      0.001      11.052      45.543\n",
       "Width         22.4733     20.372      1.103      0.272     -17.773      62.720\n",
       "==============================================================================\n",
       "Omnibus:                       20.989   Durbin-Watson:                   0.424\n",
       "Prob(Omnibus):                  0.000   Jarque-Bera (JB):               27.307\n",
       "Skew:                           0.792   Prob(JB):                     1.18e-06\n",
       "Kurtosis:                       4.269   Cond. No.                         315.\n",
       "==============================================================================\n",
       "\n",
       "Notes:\n",
       "[1] Standard Errors assume that the covariance matrix of the errors is correctly specified.\n",
       "\"\"\""
      ]
     },
     "execution_count": 40,
     "metadata": {},
     "output_type": "execute_result"
    }
   ],
   "source": [
    "modelo_v1.summary()"
   ]
  },
  {
   "cell_type": "code",
   "execution_count": 41,
   "id": "ada8971d",
   "metadata": {},
   "outputs": [],
   "source": [
    "#Analisando o valor de R-Squared é possível verificar que temos um número que consegue explicar bem a variabilidade ~ 0.88\n",
    "#Isso se deve ao facto de estarmos a treinar o modelo com várias variáveis\n",
    "\n",
    "#Analisando o valor-p é possível verificar se há ou não uma associação que não seja por acaso entre as variáveis explanatórias\n",
    "# e a variável que estamos tentando prever, notando o quão pequena a variável é. P deve ser menor que 0,05\n",
    "#Valor p não é um valor único, mas sim mas uma ferramenta de avaliação ou seja um indicativo.\n",
    "\n",
    "#Variáveis cujo valor-p  é superior a 0,05 tem uma relação ao acaso. Ou seja, pura sorte. Isso é um indicador que pode vir \n",
    "# a nos fazer remover esta variável do nosso conjunto de dados. Não podemos fazer previsões com variáveis que influnciam\n",
    "# a variável preditora por acaso.\n",
    "\n"
   ]
  },
  {
   "cell_type": "markdown",
   "id": "e13fecd4",
   "metadata": {},
   "source": [
    "##  2  - Identificação das variáveis do Dataset mais relevantes para usar no modelo de regressão linear múltipla"
   ]
  },
  {
   "cell_type": "markdown",
   "id": "bef1837a",
   "metadata": {},
   "source": [
    "## 2.1 Matriz de Correlação"
   ]
  },
  {
   "cell_type": "code",
   "execution_count": 65,
   "id": "0237817f",
   "metadata": {},
   "outputs": [
    {
     "name": "stdout",
     "output_type": "stream",
     "text": [
      "          Length1   Length2   Length3    Height     Width\n",
      "Length1  1.000000  0.999517  0.992031  0.625378  0.867050\n",
      "Length2  0.999517  1.000000  0.994103  0.640441  0.873547\n",
      "Length3  0.992031  0.994103  1.000000  0.703409  0.878520\n",
      "Height   0.625378  0.640441  0.703409  1.000000  0.792881\n",
      "Width    0.867050  0.873547  0.878520  0.792881  1.000000\n"
     ]
    }
   ],
   "source": [
    "df_corr = df.iloc[:,1:-1]\n",
    "matriz_corr = df_corr.corr()\n",
    "print (matriz_corr)"
   ]
  },
  {
   "cell_type": "code",
   "execution_count": 74,
   "id": "7b03f3f2",
   "metadata": {},
   "outputs": [],
   "source": [
    "#Criando um Correlation Plot\n",
    "variables = df.columns[:-1]\n",
    "#def visualize_correlation_matrix(data, hurdle = 0.0):\n",
    "  #  R = np.corrcoef(data, rowvar = 0)\n",
    "  #  R[np.where(np.abs(R) < hurdle)] = 0.0\n",
    "  #  heatmap = plt.pcolor(R, cmap = mpl.cm.coolwarm, alpha = 0.8)\n",
    "   # heatmap.axes.set_frame_on(False)\n",
    "  # heatmap.axes.set_yticks(np.arange(R.shape[0]) + 0.5, minor = False)\n",
    "   # heatmap.axes.set_xticks(np.arange(R.shape[1]) + 0.5, minor = False)\n",
    "  #  heatmap.axes.set_xticklabels(variables, minor = False)\n",
    "  #  plt.xticks(rotation=90)\n",
    "  #  heatmap.axes.set_yticklabels(variables, minor = False)\n",
    "  #  plt.tick_params(axis = 'both', which = 'both', bottom = 'off', top = 'off', left = 'off', right = 'off') \n",
    "  #  plt.colorbar()\n",
    "  #  plt.show()\n",
    "    #visualize_correlation_matrix(matriz_corr, hurdle = 0.5)"
   ]
  },
  {
   "cell_type": "markdown",
   "id": "ec45b149",
   "metadata": {},
   "source": [
    "## 2.2 - Avaliando a Multicolinearidade\n",
    "\n",
    "Se tivermos duas variáveis que contém o mesmo tipo de informação podemos tornar o modelo a ser tendencioso, ao remover uma das variáveis é possível termos o modelo muito mais generalizável.Pois é o nosso objetivo criar um modelo que seja o mais generalizável possível, de modo que quando inserirmos uma nova variável de entrada ele seja capaz de prever as saídas. "
   ]
  },
  {
   "cell_type": "markdown",
   "id": "d6770c52",
   "metadata": {},
   "source": [
    "## 2.2.1  - Autovalores(Eigenvalues) e Autovetores(Eigenvectors)\n",
    "Uma forma ainda mais automática de detectar associações multicolineares (e descobrir problemas numéricos em uma inversão de matriz) é usar autovetores. Explicados em termos simples, os autovetores são uma maneira muito inteligente de recombinar a variância entre as variáveis, criando novos recursos acumulando toda a variância compartilhada. Tal recombinação pode ser obtida usando a função NumPy linalg.eig, resultando em um vetor de autovalores (representando a quantidade de variância recombinada para cada nova variável) e autovetores (uma matriz nos dizendo como as novas variáveis se relacionam com as antigas).\n",
    "\n",
    "Consiste de uma operação matemática para identificar a variância total entre as variáveis. E verificar se há ou não multicollinearidade. "
   ]
  },
  {
   "cell_type": "code",
   "execution_count": 80,
   "id": "e43cc1b4",
   "metadata": {},
   "outputs": [],
   "source": [
    "#Gerando eigenvalues e eigenvectors\n",
    "corr = np.corrcoef(df_corr, rowvar = 0)\n",
    "eigenvalues, eigenvectors = np.linalg.eig(corr)"
   ]
  },
  {
   "cell_type": "markdown",
   "id": "d5d0cdc2",
   "metadata": {},
   "source": [
    "Depois de extrair os autovalores, imprimimos em ordem descrescente e procuramos qualquer elemento cujo valor seja próximo de zero ou pequeno em comparação com os outros. Valores próximos a zero podem representar um problema real para equações normais e outros métodos de otimização baseados na inversão matricial. Valores pequenos representam uma fonte elevada mas não crítica de multicolinearidade.  Valores próximos de 0 indicam multicollinearidade."
   ]
  },
  {
   "cell_type": "code",
   "execution_count": 81,
   "id": "b6effc4e",
   "metadata": {},
   "outputs": [
    {
     "name": "stdout",
     "output_type": "stream",
     "text": [
      "[4.36938852e+00 5.09715394e-01 1.18988494e-01 2.78502369e-04\n",
      " 1.62909068e-03]\n"
     ]
    }
   ],
   "source": [
    "print(eigenvalues)"
   ]
  },
  {
   "cell_type": "markdown",
   "id": "25e7d8f5",
   "metadata": {},
   "source": [
    "O menor valor está na posição 2. Vamos buscar a posição 2 no autovetor."
   ]
  },
  {
   "cell_type": "code",
   "execution_count": 82,
   "id": "a6eefbb9",
   "metadata": {},
   "outputs": [
    {
     "name": "stdout",
     "output_type": "stream",
     "text": [
      "[ 0.12137817  0.12619859  0.28705679  0.37168002 -0.86532862]\n"
     ]
    }
   ],
   "source": [
    "print(eigenvectors[:,2])"
   ]
  },
  {
   "cell_type": "markdown",
   "id": "e51b79a7",
   "metadata": {},
   "source": [
    "No eigenvector, observamos valores nas posições de índice 2, 3 e 4, que estão realmente em destaque em termos de valor absoluto.\n",
    "Ou seja de acordo ao conjunto de valores são os mais altos.\n",
    "\n",
    "Agora nós imprimimos os nomes das variáveis para saber quais contribuem mais com seus valores para construir o autovetor. \n",
    "Associamos o vetor de variáveis com o eigenvector."
   ]
  },
  {
   "cell_type": "code",
   "execution_count": 83,
   "id": "b1cfad69",
   "metadata": {},
   "outputs": [
    {
     "name": "stdout",
     "output_type": "stream",
     "text": [
      "Length2 Length3 Height\n"
     ]
    }
   ],
   "source": [
    "print(variables[2], variables[3], variables[4])"
   ]
  },
  {
   "cell_type": "markdown",
   "id": "bb2701ae",
   "metadata": {},
   "source": [
    "Tendo encontrado os culpados da multicolinearidade, o que devemos fazer com essas variáveis? \n",
    "A remoção de algumas delas é geralmente a melhor solução."
   ]
  },
  {
   "cell_type": "markdown",
   "id": "f05d88d1",
   "metadata": {},
   "source": [
    "## Gradiente Descendente \n"
   ]
  },
  {
   "cell_type": "code",
   "execution_count": 86,
   "id": "dd68c142",
   "metadata": {},
   "outputs": [],
   "source": [
    "#Gerando os dados\n",
    "observations = len(df)\n",
    "variables = df.columns"
   ]
  },
  {
   "cell_type": "markdown",
   "id": "26c89c26",
   "metadata": {},
   "source": [
    "Ao trabalhar com gradiente descendente, o ideal é que as variáveis estejam na mesma escala.Não podemos ter variáveis em escala completamente diferentes. "
   ]
  },
  {
   "cell_type": "markdown",
   "id": "acde408f",
   "metadata": {},
   "source": [
    "## Feature Scaling\n",
    "Consiste em aplicar feature nas features, ou seja nas variáveis.\n",
    "Podemos aplicar feature Scaling através de duas técnicas: Padronização ou Normalização. Normalização aplica escala aos dados\n",
    "com intervalo entre 0 e 1. A padronização divide a média pelo desvio padrão para obter uma unidade de variância. Vamos usar\n",
    "a padronização ( StandradScaler) pois nesse caso esta técnica ajusta os coeficientes e torna a superfície de erros mais \"tratável\". É necessário perceber que cada algoritmo de machine learning requer um pré-processamento dos dados. "
   ]
  },
  {
   "cell_type": "code",
   "execution_count": 89,
   "id": "b81c8469",
   "metadata": {},
   "outputs": [],
   "source": [
    "#Aplicando Padronização\n",
    "\n",
    "standardization = StandardScaler()\n",
    "#Padronização das variáveis explanatórias\n",
    "Xst = standardization.fit_transform(X)\n",
    "#Coletar as médias\n",
    "original_means = standardization.mean_\n",
    "#Coletar as escalas\n",
    "original_stds = standardization.scale_"
   ]
  },
  {
   "cell_type": "code",
   "execution_count": 92,
   "id": "ade0a90c",
   "metadata": {},
   "outputs": [],
   "source": [
    "#Gerando X padronizado e Y\n",
    "Xst = np.column_stack((Xst, np.ones(observations)))\n",
    "y = df['Weight'].values"
   ]
  },
  {
   "cell_type": "code",
   "execution_count": 93,
   "id": "20494824",
   "metadata": {},
   "outputs": [],
   "source": [
    "def random_w( p ):\n",
    "    return np.array([np.random.normal() for j in range(p)])\n",
    "\n",
    "def hypothesis(X,w):\n",
    "    return np.dot(X,w)\n",
    "\n",
    "def loss(X,w,y):\n",
    "    return hypothesis(X,w) - y\n",
    "\n",
    "def squared_loss(X,w,y):\n",
    "    return loss(X,w,y)**2\n",
    "\n",
    "def gradient(X,w,y):\n",
    "    gradients = list()\n",
    "    n = float(len( y ))\n",
    "    for j in range(len(w)):\n",
    "        gradients.append(np.sum(loss(X,w,y) * X[:,j]) / n)\n",
    "    return gradients\n",
    "\n",
    "def update(X,w,y, alpha = 0.01):\n",
    "    return [t - alpha*g for t, g in zip(w, gradient(X,w,y))]\n",
    "\n",
    "def optimize(X,y, alpha = 0.01, eta = 10**-12, iterations = 1000):\n",
    "    w = random_w(X.shape[1])\n",
    "    path = list()\n",
    "    for k in range(iterations):\n",
    "        SSL = np.sum(squared_loss(X,w,y))\n",
    "        new_w = update(X,w,y, alpha = alpha)\n",
    "        new_SSL = np.sum(squared_loss(X,new_w,y))\n",
    "        w = new_w\n",
    "        if k>=5 and (new_SSL - SSL <= eta and new_SSL - SSL >= -eta):\n",
    "            path.append(new_SSL)\n",
    "            return w, path\n",
    "        if k % (iterations / 20) == 0:\n",
    "            path.append(new_SSL)\n",
    "    return w, path "
   ]
  },
  {
   "cell_type": "code",
   "execution_count": 94,
   "id": "d00ce829",
   "metadata": {},
   "outputs": [
    {
     "name": "stdout",
     "output_type": "stream",
     "text": [
      "Coeficientes finais padronizados: 164.5326, 109.8077, -49.4921, 64.0940, 70.4909, 133.0467, 131.3979, 133.8818\n"
     ]
    }
   ],
   "source": [
    "#Imprimindo o resultado \n",
    "alpha = 0.01\n",
    "alpha = 0.01\n",
    "w, path = optimize(Xst, y, alpha, eta = 10**-12, iterations = 20000)\n",
    "print (\"Coeficientes finais padronizados: \" + ', '.join(map(lambda x: \"%0.4f\" % x, w)))            \n"
   ]
  },
  {
   "cell_type": "code",
   "execution_count": 100,
   "id": "6eb59670",
   "metadata": {},
   "outputs": [],
   "source": [
    "#Desfazendo a Padronização para obter os valores reais dos coeficientes pois a padronização é simplesmente usada para analisar\n",
    "#os resultados finais\n",
    "\n",
    "#unstandardized_betas = w[:-1] / original_stds\n",
    "#unstandardized_bias  = w[-1]-np.sum((original_means / original_stds) * w[:-1])"
   ]
  },
  {
   "cell_type": "markdown",
   "id": "60220ff1",
   "metadata": {},
   "source": [
    "## Importância dos Atributos"
   ]
  },
  {
   "cell_type": "code",
   "execution_count": 106,
   "id": "c2d6e1cd",
   "metadata": {},
   "outputs": [],
   "source": [
    "#Criando um modelo \n",
    "modelo = linear_model.LinearRegression(fit_intercept =True)"
   ]
  },
  {
   "cell_type": "code",
   "execution_count": 107,
   "id": "4098d50d",
   "metadata": {},
   "outputs": [
    {
     "data": {
      "text/html": [
       "<style>#sk-container-id-1 {color: black;background-color: white;}#sk-container-id-1 pre{padding: 0;}#sk-container-id-1 div.sk-toggleable {background-color: white;}#sk-container-id-1 label.sk-toggleable__label {cursor: pointer;display: block;width: 100%;margin-bottom: 0;padding: 0.3em;box-sizing: border-box;text-align: center;}#sk-container-id-1 label.sk-toggleable__label-arrow:before {content: \"▸\";float: left;margin-right: 0.25em;color: #696969;}#sk-container-id-1 label.sk-toggleable__label-arrow:hover:before {color: black;}#sk-container-id-1 div.sk-estimator:hover label.sk-toggleable__label-arrow:before {color: black;}#sk-container-id-1 div.sk-toggleable__content {max-height: 0;max-width: 0;overflow: hidden;text-align: left;background-color: #f0f8ff;}#sk-container-id-1 div.sk-toggleable__content pre {margin: 0.2em;color: black;border-radius: 0.25em;background-color: #f0f8ff;}#sk-container-id-1 input.sk-toggleable__control:checked~div.sk-toggleable__content {max-height: 200px;max-width: 100%;overflow: auto;}#sk-container-id-1 input.sk-toggleable__control:checked~label.sk-toggleable__label-arrow:before {content: \"▾\";}#sk-container-id-1 div.sk-estimator input.sk-toggleable__control:checked~label.sk-toggleable__label {background-color: #d4ebff;}#sk-container-id-1 div.sk-label input.sk-toggleable__control:checked~label.sk-toggleable__label {background-color: #d4ebff;}#sk-container-id-1 input.sk-hidden--visually {border: 0;clip: rect(1px 1px 1px 1px);clip: rect(1px, 1px, 1px, 1px);height: 1px;margin: -1px;overflow: hidden;padding: 0;position: absolute;width: 1px;}#sk-container-id-1 div.sk-estimator {font-family: monospace;background-color: #f0f8ff;border: 1px dotted black;border-radius: 0.25em;box-sizing: border-box;margin-bottom: 0.5em;}#sk-container-id-1 div.sk-estimator:hover {background-color: #d4ebff;}#sk-container-id-1 div.sk-parallel-item::after {content: \"\";width: 100%;border-bottom: 1px solid gray;flex-grow: 1;}#sk-container-id-1 div.sk-label:hover label.sk-toggleable__label {background-color: #d4ebff;}#sk-container-id-1 div.sk-serial::before {content: \"\";position: absolute;border-left: 1px solid gray;box-sizing: border-box;top: 0;bottom: 0;left: 50%;z-index: 0;}#sk-container-id-1 div.sk-serial {display: flex;flex-direction: column;align-items: center;background-color: white;padding-right: 0.2em;padding-left: 0.2em;position: relative;}#sk-container-id-1 div.sk-item {position: relative;z-index: 1;}#sk-container-id-1 div.sk-parallel {display: flex;align-items: stretch;justify-content: center;background-color: white;position: relative;}#sk-container-id-1 div.sk-item::before, #sk-container-id-1 div.sk-parallel-item::before {content: \"\";position: absolute;border-left: 1px solid gray;box-sizing: border-box;top: 0;bottom: 0;left: 50%;z-index: -1;}#sk-container-id-1 div.sk-parallel-item {display: flex;flex-direction: column;z-index: 1;position: relative;background-color: white;}#sk-container-id-1 div.sk-parallel-item:first-child::after {align-self: flex-end;width: 50%;}#sk-container-id-1 div.sk-parallel-item:last-child::after {align-self: flex-start;width: 50%;}#sk-container-id-1 div.sk-parallel-item:only-child::after {width: 0;}#sk-container-id-1 div.sk-dashed-wrapped {border: 1px dashed gray;margin: 0 0.4em 0.5em 0.4em;box-sizing: border-box;padding-bottom: 0.4em;background-color: white;}#sk-container-id-1 div.sk-label label {font-family: monospace;font-weight: bold;display: inline-block;line-height: 1.2em;}#sk-container-id-1 div.sk-label-container {text-align: center;}#sk-container-id-1 div.sk-container {/* jupyter's `normalize.less` sets `[hidden] { display: none; }` but bootstrap.min.css set `[hidden] { display: none !important; }` so we also need the `!important` here to be able to override the default hidden behavior on the sphinx rendered scikit-learn.org. See: https://github.com/scikit-learn/scikit-learn/issues/21755 */display: inline-block !important;position: relative;}#sk-container-id-1 div.sk-text-repr-fallback {display: none;}</style><div id=\"sk-container-id-1\" class=\"sk-top-container\"><div class=\"sk-text-repr-fallback\"><pre>LinearRegression()</pre><b>In a Jupyter environment, please rerun this cell to show the HTML representation or trust the notebook. <br />On GitHub, the HTML representation is unable to render, please try loading this page with nbviewer.org.</b></div><div class=\"sk-container\" hidden><div class=\"sk-item\"><div class=\"sk-estimator sk-toggleable\"><input class=\"sk-toggleable__control sk-hidden--visually\" id=\"sk-estimator-id-1\" type=\"checkbox\" checked><label for=\"sk-estimator-id-1\" class=\"sk-toggleable__label sk-toggleable__label-arrow\">LinearRegression</label><div class=\"sk-toggleable__content\"><pre>LinearRegression()</pre></div></div></div></div></div>"
      ],
      "text/plain": [
       "LinearRegression()"
      ]
     },
     "execution_count": 107,
     "metadata": {},
     "output_type": "execute_result"
    }
   ],
   "source": [
    "#Treinando o modelo com dados não padronizados(em escalas diferentes)\n",
    "modelo.fit(X,y)"
   ]
  },
  {
   "cell_type": "code",
   "execution_count": 109,
   "id": "99f47452",
   "metadata": {},
   "outputs": [
    {
     "name": "stdout",
     "output_type": "stream",
     "text": [
      "62.355 Species\n",
      "29.026 Length2\n",
      "28.297 Length3\n",
      "22.473 Height\n",
      " 6.527 Length1\n"
     ]
    }
   ],
   "source": [
    "#Imprimindo os coeficientes e as variáveis por ordem de importância\n",
    "for coef, var in sorted(zip(map(abs, modelo.coef_), df.columns[:-1]), reverse = True):\n",
    "    print (\"%6.3f %s\" % (coef,var))"
   ]
  },
  {
   "cell_type": "markdown",
   "id": "40c450b3",
   "metadata": {},
   "source": [
    "Observação importante: O modelo de regressão multípla espera receber as variáveis de forma padronizada, logo devemos padronizar \n",
    "os mesmos"
   ]
  },
  {
   "cell_type": "code",
   "execution_count": 112,
   "id": "99f3dcca",
   "metadata": {},
   "outputs": [],
   "source": [
    "#Padronizando os dados\n",
    "standardization = StandardScaler()\n",
    "Stand_coef_linear_reg = make_pipeline(standardization, modelo)\n"
   ]
  },
  {
   "cell_type": "code",
   "execution_count": 114,
   "id": "cfbf1ae6",
   "metadata": {},
   "outputs": [
    {
     "data": {
      "text/html": [
       "<style>#sk-container-id-2 {color: black;background-color: white;}#sk-container-id-2 pre{padding: 0;}#sk-container-id-2 div.sk-toggleable {background-color: white;}#sk-container-id-2 label.sk-toggleable__label {cursor: pointer;display: block;width: 100%;margin-bottom: 0;padding: 0.3em;box-sizing: border-box;text-align: center;}#sk-container-id-2 label.sk-toggleable__label-arrow:before {content: \"▸\";float: left;margin-right: 0.25em;color: #696969;}#sk-container-id-2 label.sk-toggleable__label-arrow:hover:before {color: black;}#sk-container-id-2 div.sk-estimator:hover label.sk-toggleable__label-arrow:before {color: black;}#sk-container-id-2 div.sk-toggleable__content {max-height: 0;max-width: 0;overflow: hidden;text-align: left;background-color: #f0f8ff;}#sk-container-id-2 div.sk-toggleable__content pre {margin: 0.2em;color: black;border-radius: 0.25em;background-color: #f0f8ff;}#sk-container-id-2 input.sk-toggleable__control:checked~div.sk-toggleable__content {max-height: 200px;max-width: 100%;overflow: auto;}#sk-container-id-2 input.sk-toggleable__control:checked~label.sk-toggleable__label-arrow:before {content: \"▾\";}#sk-container-id-2 div.sk-estimator input.sk-toggleable__control:checked~label.sk-toggleable__label {background-color: #d4ebff;}#sk-container-id-2 div.sk-label input.sk-toggleable__control:checked~label.sk-toggleable__label {background-color: #d4ebff;}#sk-container-id-2 input.sk-hidden--visually {border: 0;clip: rect(1px 1px 1px 1px);clip: rect(1px, 1px, 1px, 1px);height: 1px;margin: -1px;overflow: hidden;padding: 0;position: absolute;width: 1px;}#sk-container-id-2 div.sk-estimator {font-family: monospace;background-color: #f0f8ff;border: 1px dotted black;border-radius: 0.25em;box-sizing: border-box;margin-bottom: 0.5em;}#sk-container-id-2 div.sk-estimator:hover {background-color: #d4ebff;}#sk-container-id-2 div.sk-parallel-item::after {content: \"\";width: 100%;border-bottom: 1px solid gray;flex-grow: 1;}#sk-container-id-2 div.sk-label:hover label.sk-toggleable__label {background-color: #d4ebff;}#sk-container-id-2 div.sk-serial::before {content: \"\";position: absolute;border-left: 1px solid gray;box-sizing: border-box;top: 0;bottom: 0;left: 50%;z-index: 0;}#sk-container-id-2 div.sk-serial {display: flex;flex-direction: column;align-items: center;background-color: white;padding-right: 0.2em;padding-left: 0.2em;position: relative;}#sk-container-id-2 div.sk-item {position: relative;z-index: 1;}#sk-container-id-2 div.sk-parallel {display: flex;align-items: stretch;justify-content: center;background-color: white;position: relative;}#sk-container-id-2 div.sk-item::before, #sk-container-id-2 div.sk-parallel-item::before {content: \"\";position: absolute;border-left: 1px solid gray;box-sizing: border-box;top: 0;bottom: 0;left: 50%;z-index: -1;}#sk-container-id-2 div.sk-parallel-item {display: flex;flex-direction: column;z-index: 1;position: relative;background-color: white;}#sk-container-id-2 div.sk-parallel-item:first-child::after {align-self: flex-end;width: 50%;}#sk-container-id-2 div.sk-parallel-item:last-child::after {align-self: flex-start;width: 50%;}#sk-container-id-2 div.sk-parallel-item:only-child::after {width: 0;}#sk-container-id-2 div.sk-dashed-wrapped {border: 1px dashed gray;margin: 0 0.4em 0.5em 0.4em;box-sizing: border-box;padding-bottom: 0.4em;background-color: white;}#sk-container-id-2 div.sk-label label {font-family: monospace;font-weight: bold;display: inline-block;line-height: 1.2em;}#sk-container-id-2 div.sk-label-container {text-align: center;}#sk-container-id-2 div.sk-container {/* jupyter's `normalize.less` sets `[hidden] { display: none; }` but bootstrap.min.css set `[hidden] { display: none !important; }` so we also need the `!important` here to be able to override the default hidden behavior on the sphinx rendered scikit-learn.org. See: https://github.com/scikit-learn/scikit-learn/issues/21755 */display: inline-block !important;position: relative;}#sk-container-id-2 div.sk-text-repr-fallback {display: none;}</style><div id=\"sk-container-id-2\" class=\"sk-top-container\"><div class=\"sk-text-repr-fallback\"><pre>Pipeline(steps=[(&#x27;standardscaler&#x27;, StandardScaler()),\n",
       "                (&#x27;linearregression&#x27;, LinearRegression())])</pre><b>In a Jupyter environment, please rerun this cell to show the HTML representation or trust the notebook. <br />On GitHub, the HTML representation is unable to render, please try loading this page with nbviewer.org.</b></div><div class=\"sk-container\" hidden><div class=\"sk-item sk-dashed-wrapped\"><div class=\"sk-label-container\"><div class=\"sk-label sk-toggleable\"><input class=\"sk-toggleable__control sk-hidden--visually\" id=\"sk-estimator-id-2\" type=\"checkbox\" ><label for=\"sk-estimator-id-2\" class=\"sk-toggleable__label sk-toggleable__label-arrow\">Pipeline</label><div class=\"sk-toggleable__content\"><pre>Pipeline(steps=[(&#x27;standardscaler&#x27;, StandardScaler()),\n",
       "                (&#x27;linearregression&#x27;, LinearRegression())])</pre></div></div></div><div class=\"sk-serial\"><div class=\"sk-item\"><div class=\"sk-estimator sk-toggleable\"><input class=\"sk-toggleable__control sk-hidden--visually\" id=\"sk-estimator-id-3\" type=\"checkbox\" ><label for=\"sk-estimator-id-3\" class=\"sk-toggleable__label sk-toggleable__label-arrow\">StandardScaler</label><div class=\"sk-toggleable__content\"><pre>StandardScaler()</pre></div></div></div><div class=\"sk-item\"><div class=\"sk-estimator sk-toggleable\"><input class=\"sk-toggleable__control sk-hidden--visually\" id=\"sk-estimator-id-4\" type=\"checkbox\" ><label for=\"sk-estimator-id-4\" class=\"sk-toggleable__label sk-toggleable__label-arrow\">LinearRegression</label><div class=\"sk-toggleable__content\"><pre>LinearRegression()</pre></div></div></div></div></div></div></div>"
      ],
      "text/plain": [
       "Pipeline(steps=[('standardscaler', StandardScaler()),\n",
       "                ('linearregression', LinearRegression())])"
      ]
     },
     "execution_count": 114,
     "metadata": {},
     "output_type": "execute_result"
    }
   ],
   "source": [
    "#Treinando o modelo com dados padronizados ( na mesma escala)\n",
    "#Primeiro aplica a padronização e depois treina o modelo\n",
    "Stand_coef_linear_reg.fit(X,Y)"
   ]
  },
  {
   "cell_type": "code",
   "execution_count": 116,
   "id": "d0909b35",
   "metadata": {},
   "outputs": [
    {
     "name": "stdout",
     "output_type": "stream",
     "text": [
      "621.367 Species\n",
      "335.940 Length2\n",
      "120.906 Length3\n",
      "69.723 Length1\n",
      "37.766 Height\n"
     ]
    }
   ],
   "source": [
    "# Imprimindo os coeficientes e as variáveis\n",
    "for coef, var in sorted(zip(map(abs, Stand_coef_linear_reg.steps[1][1].coef_), df.columns[:-1]), reverse = True):\n",
    "    print (\"%6.3f %s\" % (coef,var))"
   ]
  },
  {
   "cell_type": "markdown",
   "id": "30f6782c",
   "metadata": {},
   "source": [
    "## Usando o R Squared\n",
    "Métrica usada para valiar a performance do modelo"
   ]
  },
  {
   "cell_type": "code",
   "execution_count": 118,
   "id": "89c4ada9",
   "metadata": {},
   "outputs": [],
   "source": [
    "#Criação do objeto\n",
    "modelo = linear_model.LinearRegression(fit_intercept = True)"
   ]
  },
  {
   "cell_type": "code",
   "execution_count": 121,
   "id": "0d697c91",
   "metadata": {},
   "outputs": [],
   "source": [
    "def r2_est(X,Y):\n",
    "    return r2_score(y, modelo.fit(X, Y).predict(X))"
   ]
  },
  {
   "cell_type": "code",
   "execution_count": 124,
   "id": "5faee8e8",
   "metadata": {},
   "outputs": [
    {
     "name": "stdout",
     "output_type": "stream",
     "text": [
      "Coeficiente R2: 0.885\n"
     ]
    }
   ],
   "source": [
    "print('Coeficiente R2: %0.3f' % r2_est(X,Y))"
   ]
  },
  {
   "cell_type": "markdown",
   "id": "e248b288",
   "metadata": {},
   "source": [
    "A partir deste resultado podemos dizer que as variáveis explanatórias conseguem explicar 88% da variabilidade da variável preditora."
   ]
  },
  {
   "cell_type": "code",
   "execution_count": 125,
   "id": "fbd5755c",
   "metadata": {},
   "outputs": [
    {
     "name": "stdout",
     "output_type": "stream",
     "text": [
      " 0.008 Length3\n",
      " 0.002 Length2\n",
      " 0.002 Species\n",
      " 0.001 Height\n",
      " 0.000 Length1\n"
     ]
    }
   ],
   "source": [
    "#Verificar impacto de cada variável no R2\n",
    "r2_impact = list()\n",
    "for j in range(X.shape[1]):\n",
    "    selection = [i for i in range(X.shape[1]) if i!=j]\n",
    "    r2_impact.append(((r2_est(X,Y) - r2_est(X.values[:,selection],y)), df.columns[j]))\n",
    "    \n",
    "for imp, varname in sorted(r2_impact, reverse = True):\n",
    "    print ('%6.3f %s' %  (imp, varname))"
   ]
  },
  {
   "cell_type": "markdown",
   "id": "5cc0dd43",
   "metadata": {},
   "source": [
    "## Fazendo Previsões com o modelo de Regressão Linear Múltipla"
   ]
  },
  {
   "cell_type": "code",
   "execution_count": 126,
   "id": "b0cbabca",
   "metadata": {},
   "outputs": [],
   "source": [
    "# Imports\n",
    "import numpy as np\n",
    "import pandas as pd\n",
    "from sklearn.model_selection import train_test_split\n",
    "from sklearn.linear_model import LinearRegression\n",
    "from sklearn.metrics import r2_score"
   ]
  },
  {
   "cell_type": "code",
   "execution_count": 127,
   "id": "53a04596",
   "metadata": {},
   "outputs": [],
   "source": [
    "#Criando o bloco principal de previsões\n",
    "#Carregando o DataSet\n",
    "df2 = pd.read_csv(\"Fish.csv\")"
   ]
  },
  {
   "cell_type": "code",
   "execution_count": 128,
   "id": "800fc346",
   "metadata": {},
   "outputs": [
    {
     "data": {
      "text/html": [
       "<div>\n",
       "<style scoped>\n",
       "    .dataframe tbody tr th:only-of-type {\n",
       "        vertical-align: middle;\n",
       "    }\n",
       "\n",
       "    .dataframe tbody tr th {\n",
       "        vertical-align: top;\n",
       "    }\n",
       "\n",
       "    .dataframe thead th {\n",
       "        text-align: right;\n",
       "    }\n",
       "</style>\n",
       "<table border=\"1\" class=\"dataframe\">\n",
       "  <thead>\n",
       "    <tr style=\"text-align: right;\">\n",
       "      <th></th>\n",
       "      <th>Species</th>\n",
       "      <th>Weight</th>\n",
       "      <th>Length1</th>\n",
       "      <th>Length2</th>\n",
       "      <th>Length3</th>\n",
       "      <th>Height</th>\n",
       "      <th>Width</th>\n",
       "    </tr>\n",
       "  </thead>\n",
       "  <tbody>\n",
       "    <tr>\n",
       "      <th>0</th>\n",
       "      <td>Bream</td>\n",
       "      <td>242.0</td>\n",
       "      <td>23.2</td>\n",
       "      <td>25.4</td>\n",
       "      <td>30.0</td>\n",
       "      <td>11.5200</td>\n",
       "      <td>4.0200</td>\n",
       "    </tr>\n",
       "    <tr>\n",
       "      <th>1</th>\n",
       "      <td>Bream</td>\n",
       "      <td>290.0</td>\n",
       "      <td>24.0</td>\n",
       "      <td>26.3</td>\n",
       "      <td>31.2</td>\n",
       "      <td>12.4800</td>\n",
       "      <td>4.3056</td>\n",
       "    </tr>\n",
       "    <tr>\n",
       "      <th>2</th>\n",
       "      <td>Bream</td>\n",
       "      <td>340.0</td>\n",
       "      <td>23.9</td>\n",
       "      <td>26.5</td>\n",
       "      <td>31.1</td>\n",
       "      <td>12.3778</td>\n",
       "      <td>4.6961</td>\n",
       "    </tr>\n",
       "    <tr>\n",
       "      <th>3</th>\n",
       "      <td>Bream</td>\n",
       "      <td>363.0</td>\n",
       "      <td>26.3</td>\n",
       "      <td>29.0</td>\n",
       "      <td>33.5</td>\n",
       "      <td>12.7300</td>\n",
       "      <td>4.4555</td>\n",
       "    </tr>\n",
       "    <tr>\n",
       "      <th>4</th>\n",
       "      <td>Bream</td>\n",
       "      <td>430.0</td>\n",
       "      <td>26.5</td>\n",
       "      <td>29.0</td>\n",
       "      <td>34.0</td>\n",
       "      <td>12.4440</td>\n",
       "      <td>5.1340</td>\n",
       "    </tr>\n",
       "  </tbody>\n",
       "</table>\n",
       "</div>"
      ],
      "text/plain": [
       "  Species  Weight  Length1  Length2  Length3   Height   Width\n",
       "0   Bream   242.0     23.2     25.4     30.0  11.5200  4.0200\n",
       "1   Bream   290.0     24.0     26.3     31.2  12.4800  4.3056\n",
       "2   Bream   340.0     23.9     26.5     31.1  12.3778  4.6961\n",
       "3   Bream   363.0     26.3     29.0     33.5  12.7300  4.4555\n",
       "4   Bream   430.0     26.5     29.0     34.0  12.4440  5.1340"
      ]
     },
     "execution_count": 128,
     "metadata": {},
     "output_type": "execute_result"
    }
   ],
   "source": [
    "df2.head()"
   ]
  },
  {
   "cell_type": "code",
   "execution_count": 129,
   "id": "f9e8d726",
   "metadata": {},
   "outputs": [
    {
     "data": {
      "text/plain": [
       "(159, 7)"
      ]
     },
     "execution_count": 129,
     "metadata": {},
     "output_type": "execute_result"
    }
   ],
   "source": [
    "df2.shape"
   ]
  },
  {
   "cell_type": "markdown",
   "id": "15a2b9d5",
   "metadata": {},
   "source": [
    "Temos um dataset com 159 observações e 7 colunas."
   ]
  },
  {
   "cell_type": "code",
   "execution_count": 130,
   "id": "8961c623",
   "metadata": {},
   "outputs": [],
   "source": [
    "#Ao invés de usar todas as variáveis para efetuar as previsões, vamos usar apenas as 2 variáveis que têm mais impacto no R2\n",
    "X = df2[['Length3','Length2']]\n",
    "Y = df2['Weight'].values"
   ]
  },
  {
   "cell_type": "code",
   "execution_count": 131,
   "id": "844714e8",
   "metadata": {},
   "outputs": [
    {
     "data": {
      "text/html": [
       "<div>\n",
       "<style scoped>\n",
       "    .dataframe tbody tr th:only-of-type {\n",
       "        vertical-align: middle;\n",
       "    }\n",
       "\n",
       "    .dataframe tbody tr th {\n",
       "        vertical-align: top;\n",
       "    }\n",
       "\n",
       "    .dataframe thead th {\n",
       "        text-align: right;\n",
       "    }\n",
       "</style>\n",
       "<table border=\"1\" class=\"dataframe\">\n",
       "  <thead>\n",
       "    <tr style=\"text-align: right;\">\n",
       "      <th></th>\n",
       "      <th>Length3</th>\n",
       "      <th>Length2</th>\n",
       "    </tr>\n",
       "  </thead>\n",
       "  <tbody>\n",
       "    <tr>\n",
       "      <th>0</th>\n",
       "      <td>30.0</td>\n",
       "      <td>25.4</td>\n",
       "    </tr>\n",
       "    <tr>\n",
       "      <th>1</th>\n",
       "      <td>31.2</td>\n",
       "      <td>26.3</td>\n",
       "    </tr>\n",
       "    <tr>\n",
       "      <th>2</th>\n",
       "      <td>31.1</td>\n",
       "      <td>26.5</td>\n",
       "    </tr>\n",
       "    <tr>\n",
       "      <th>3</th>\n",
       "      <td>33.5</td>\n",
       "      <td>29.0</td>\n",
       "    </tr>\n",
       "    <tr>\n",
       "      <th>4</th>\n",
       "      <td>34.0</td>\n",
       "      <td>29.0</td>\n",
       "    </tr>\n",
       "  </tbody>\n",
       "</table>\n",
       "</div>"
      ],
      "text/plain": [
       "   Length3  Length2\n",
       "0     30.0     25.4\n",
       "1     31.2     26.3\n",
       "2     31.1     26.5\n",
       "3     33.5     29.0\n",
       "4     34.0     29.0"
      ]
     },
     "execution_count": 131,
     "metadata": {},
     "output_type": "execute_result"
    }
   ],
   "source": [
    "X.head()"
   ]
  },
  {
   "cell_type": "code",
   "execution_count": 132,
   "id": "01d0887e",
   "metadata": {},
   "outputs": [
    {
     "data": {
      "text/plain": [
       "array([ 242. ,  290. ,  340. ,  363. ,  430. ,  450. ,  500. ,  390. ,\n",
       "        450. ,  500. ,  475. ,  500. ,  500. ,  340. ,  600. ,  600. ,\n",
       "        700. ,  700. ,  610. ,  650. ,  575. ,  685. ,  620. ,  680. ,\n",
       "        700. ,  725. ,  720. ,  714. ,  850. , 1000. ,  920. ,  955. ,\n",
       "        925. ,  975. ,  950. ,   40. ,   69. ,   78. ,   87. ,  120. ,\n",
       "          0. ,  110. ,  120. ,  150. ,  145. ,  160. ,  140. ,  160. ,\n",
       "        169. ,  161. ,  200. ,  180. ,  290. ,  272. ,  390. ,  270. ,\n",
       "        270. ,  306. ,  540. ,  800. , 1000. ,   55. ,   60. ,   90. ,\n",
       "        120. ,  150. ,  140. ,  170. ,  145. ,  200. ,  273. ,  300. ,\n",
       "          5.9,   32. ,   40. ,   51.5,   70. ,  100. ,   78. ,   80. ,\n",
       "         85. ,   85. ,  110. ,  115. ,  125. ,  130. ,  120. ,  120. ,\n",
       "        130. ,  135. ,  110. ,  130. ,  150. ,  145. ,  150. ,  170. ,\n",
       "        225. ,  145. ,  188. ,  180. ,  197. ,  218. ,  300. ,  260. ,\n",
       "        265. ,  250. ,  250. ,  300. ,  320. ,  514. ,  556. ,  840. ,\n",
       "        685. ,  700. ,  700. ,  690. ,  900. ,  650. ,  820. ,  850. ,\n",
       "        900. , 1015. ,  820. , 1100. , 1000. , 1100. , 1000. , 1000. ,\n",
       "        200. ,  300. ,  300. ,  300. ,  430. ,  345. ,  456. ,  510. ,\n",
       "        540. ,  500. ,  567. ,  770. ,  950. , 1250. , 1600. , 1550. ,\n",
       "       1650. ,    6.7,    7.5,    7. ,    9.7,    9.8,    8.7,   10. ,\n",
       "          9.9,    9.8,   12.2,   13.4,   12.2,   19.7,   19.9])"
      ]
     },
     "execution_count": 132,
     "metadata": {},
     "output_type": "execute_result"
    }
   ],
   "source": [
    "Y"
   ]
  },
  {
   "cell_type": "code",
   "execution_count": 133,
   "id": "3e5b4efb",
   "metadata": {},
   "outputs": [],
   "source": [
    "#Divisão em dados de treino e de teste\n",
    "X_train, X_test, y_train, y_test = train_test_split(X, Y, test_size=0.2, random_state = 42)"
   ]
  },
  {
   "cell_type": "code",
   "execution_count": 134,
   "id": "ae877040",
   "metadata": {},
   "outputs": [],
   "source": [
    "#Criando o modelo\n",
    "modelo = LinearRegression(fit_intercept=True)"
   ]
  },
  {
   "cell_type": "code",
   "execution_count": 135,
   "id": "5776a5a4",
   "metadata": {},
   "outputs": [],
   "source": [
    "#Treina o modelo\n",
    "modelo_v2 = modelo.fit(X_train, y_train)"
   ]
  },
  {
   "cell_type": "code",
   "execution_count": 136,
   "id": "15d9ddfb",
   "metadata": {},
   "outputs": [
    {
     "data": {
      "text/plain": [
       "0.8400101038572236"
      ]
     },
     "execution_count": 136,
     "metadata": {},
     "output_type": "execute_result"
    }
   ],
   "source": [
    "#Calcula a métrica R2 do nosso modelo\n",
    "r2_score(y_test, modelo_v2.fit(X_train, y_train).predict(X_test))"
   ]
  },
  {
   "cell_type": "code",
   "execution_count": 139,
   "id": "7d4ed819",
   "metadata": {},
   "outputs": [
    {
     "name": "stdout",
     "output_type": "stream",
     "text": [
      "Peso do peixe: [334.311474]\n"
     ]
    },
    {
     "name": "stderr",
     "output_type": "stream",
     "text": [
      "C:\\Users\\KevinTohounkePixelIn\\anaconda3\\lib\\site-packages\\sklearn\\base.py:420: UserWarning: X does not have valid feature names, but LinearRegression was fitted with feature names\n",
      "  warnings.warn(\n"
     ]
    }
   ],
   "source": [
    "#Produzindo a matriz com os novos dados de entrada para a previsão\n",
    "Length3 = 30\n",
    "Length2 = 25.4\n",
    "\n",
    "#Lista com os valores das variáveis\n",
    "dadosN = [Length3,Length2]\n",
    "\n",
    "#Reshape\n",
    "Xp = np.array(dadosN).reshape(1,-1)\n",
    "\n",
    "#Previsao\n",
    "print(\"Peso do peixe:\", modelo_v2.predict(Xp))"
   ]
  },
  {
   "cell_type": "code",
   "execution_count": null,
   "id": "229b853a",
   "metadata": {},
   "outputs": [],
   "source": []
  }
 ],
 "metadata": {
  "kernelspec": {
   "display_name": "Python 3 (ipykernel)",
   "language": "python",
   "name": "python3"
  },
  "language_info": {
   "codemirror_mode": {
    "name": "ipython",
    "version": 3
   },
   "file_extension": ".py",
   "mimetype": "text/x-python",
   "name": "python",
   "nbconvert_exporter": "python",
   "pygments_lexer": "ipython3",
   "version": "3.10.9"
  }
 },
 "nbformat": 4,
 "nbformat_minor": 5
}
